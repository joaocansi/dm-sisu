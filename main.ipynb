{
 "cells": [
  {
   "cell_type": "markdown",
   "metadata": {},
   "source": [
    "### **Installing dependencies**\n",
    "This will install the following dependencies:\n",
    "- requests\n",
    "- openpyxl\n",
    "- pandas"
   ]
  },
  {
   "cell_type": "code",
   "execution_count": null,
   "metadata": {},
   "outputs": [],
   "source": [
    "pip install -r requirements.txt"
   ]
  },
  {
   "cell_type": "markdown",
   "metadata": {},
   "source": [
    "### **Importing dependencies**"
   ]
  },
  {
   "cell_type": "code",
   "execution_count": 2,
   "metadata": {},
   "outputs": [],
   "source": [
    "from openpyxl import Workbook\n",
    "from datetime import datetime\n",
    "import csv\n",
    "import os\n",
    "import requests\n",
    "import time\n",
    "import pandas as pd"
   ]
  },
  {
   "cell_type": "markdown",
   "metadata": {},
   "source": [
    "### **Declaring API links**\n",
    "These variables has the links of the API which will be used to extract the data. Here's the explanation for each one:\n",
    "- **institutions_uri**: returns all institutions which may have vacancies.\n",
    "- **institution_offers_uri**: returns all course offering of each institution found previouly.\n",
    "- **institution_offers_selected_uri**: returns all acceptances for each offer"
   ]
  },
  {
   "cell_type": "code",
   "execution_count": 3,
   "metadata": {},
   "outputs": [],
   "source": [
    "institutions_uri = 'https://sisu-api.sisu.mec.gov.br/api/v1/oferta/instituicoes'\n",
    "institution_offers_uri = 'https://sisu-api.sisu.mec.gov.br/api/v1/oferta/instituicao/{co_ies}'\n",
    "institution_offer_selected_uri = 'https://sisu-api.sisu.mec.gov.br/api/v1/oferta/{co_oferta}/selecionados'"
   ]
  },
  {
   "cell_type": "markdown",
   "metadata": {},
   "source": [
    "### **Requesting data**\n",
    "\n",
    "By using the previous variables, each function right below will request data, convert/process if necessary and finally return."
   ]
  },
  {
   "cell_type": "code",
   "execution_count": 4,
   "metadata": {},
   "outputs": [],
   "source": [
    "def get_institutions_data():\n",
    "  response = requests.get(institutions_uri);\n",
    "  return response.json()\n",
    "\n",
    "def get_institution_offers_data(institution):\n",
    "  response = requests.get(institution_offers_uri.replace(\"{co_ies}\", institution[\"co_ies\"]))\n",
    "  return dict(list(response.json().items())[1:])\n",
    "\n",
    "def get_institution_offer_selected_data(institution_offer):\n",
    "  response = requests.get(institution_offer_selected_uri.replace(\"{co_oferta}\", institution_offer[\"co_oferta\"]))\n",
    "  return response.json()"
   ]
  },
  {
   "cell_type": "markdown",
   "metadata": {},
   "source": [
    "### **Running**\n",
    "\n",
    "This function will extract the data, process, concat and finally save into a csv file. It is important to remember that sisu occurs every year and the api information can be renewed or removed."
   ]
  },
  {
   "cell_type": "code",
   "execution_count": null,
   "metadata": {},
   "outputs": [],
   "source": [
    "def run():\n",
    "  wb = Workbook()\n",
    "  ws = wb.active\n",
    "  data = []\n",
    "  \n",
    "  institutions_data = get_institutions_data()\n",
    "  for i, institution in enumerate(institutions_data, start=1):\n",
    "    print(f\"Processing institution {i}/{len(institutions_data)}\")\n",
    "    \n",
    "    institution_offers_data = get_institution_offers_data(institution)\n",
    "    for j, (_, institution_offer) in enumerate(institution_offers_data.items(), start=1):\n",
    "      print(f\"   Processing offer {j}/{len(institution_offers_data)}\")\n",
    "      \n",
    "      institution_offer_selected_data = get_institution_offer_selected_data(institution_offer)\n",
    "      for institution_offer_selected in institution_offer_selected_data:\n",
    "        if not data:\n",
    "          data.append(list(institution.keys()) + list(institution_offer.keys()) + list(institution_offer_selected.keys()))\n",
    "        data.append(list(institution.values()) + list(institution_offer.values()) + list(institution_offer_selected.values()))\n",
    "\n",
    "  current_datetime=datetime.now()\n",
    "\n",
    "  for row in data:\n",
    "    ws.append(row)\n",
    "  wb.save(f\"out/SISUv{current_datetime.year}.xlsx\")\n",
    "\n",
    "  with open(f'out/SISUv{current_datetime.year}.csv', 'w') as f:\n",
    "    write = csv.writer(f)\n",
    "    write.writerows(data)\n",
    "\n",
    "run()"
   ]
  }
 ],
 "metadata": {
  "kernelspec": {
   "display_name": "Python 3",
   "language": "python",
   "name": "python3"
  },
  "language_info": {
   "codemirror_mode": {
    "name": "ipython",
    "version": 3
   },
   "file_extension": ".py",
   "mimetype": "text/x-python",
   "name": "python",
   "nbconvert_exporter": "python",
   "pygments_lexer": "ipython3",
   "version": "3.10.12"
  }
 },
 "nbformat": 4,
 "nbformat_minor": 2
}
