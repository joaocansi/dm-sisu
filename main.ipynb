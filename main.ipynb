{
 "cells": [
  {
   "cell_type": "code",
   "execution_count": null,
   "metadata": {},
   "outputs": [],
   "source": [
    "pip install -r requirements.txt"
   ]
  },
  {
   "cell_type": "code",
   "execution_count": 11,
   "metadata": {},
   "outputs": [],
   "source": [
    "from openpyxl import Workbook\n",
    "from datetime import datetime\n",
    "import os\n",
    "import requests\n",
    "import pandas as pd"
   ]
  },
  {
   "cell_type": "code",
   "execution_count": 6,
   "metadata": {},
   "outputs": [],
   "source": [
    "institutions_uri = 'https://sisu-api.sisu.mec.gov.br/api/v1/oferta/instituicoes'\n",
    "institution_offers_uri = 'https://sisu-api.sisu.mec.gov.br/api/v1/oferta/instituicao/{co_ies}'\n",
    "institution_offer_selected_uri = 'https://sisu-api.sisu.mec.gov.br/api/v1/oferta/{co_oferta}/selecionados'"
   ]
  },
  {
   "cell_type": "code",
   "execution_count": 7,
   "metadata": {},
   "outputs": [],
   "source": [
    "def get_institutions_data():\n",
    "  response = requests.get(institutions_uri);\n",
    "  return response.json()\n",
    "\n",
    "def get_institution_offers_data(institution):\n",
    "  response = requests.get(institution_offers_uri.replace(\"{co_ies}\", institution[\"co_ies\"]))\n",
    "  return dict(list(response.json().items())[1:])\n",
    "\n",
    "def get_institution_offer_selected_data(institution_offer):\n",
    "  response = requests.get(institution_offer_selected_uri.replace(\"{co_oferta}\", institution_offer[\"co_oferta\"]))\n",
    "  return response.json()"
   ]
  },
  {
   "cell_type": "code",
   "execution_count": 8,
   "metadata": {},
   "outputs": [],
   "source": [
    "def append_row(ws, institution, institution_offer, institution_offer_selected):\n",
    "  if ws.max_row <= 1:\n",
    "    ws.append(list(institution) + list(institution_offer) + list(institution_offer_selected))\n",
    "    ws.append(list(institution.values()) + list(institution_offer.values()) + list(institution_offer_selected.values()))"
   ]
  },
  {
   "cell_type": "code",
   "execution_count": 14,
   "metadata": {},
   "outputs": [],
   "source": [
    "def run():\n",
    "  current_datetime = datetime.now()\n",
    "\n",
    "  institutions_data = get_institutions_data()\n",
    "  data = pd.DataFrame()\n",
    "  \n",
    "  for i, institution in enumerate(institutions_data, start=1):\n",
    "    print(f\"Processing institution {i}/{len(institutions_data)}\")\n",
    "    institution_offers_data = get_institution_offers_data(institution)\n",
    "    \n",
    "    for j, (_, institution_offer) in enumerate(institution_offers_data.items(), start=1):\n",
    "      print(f\"  Processing offer {j}/{len(institution_offers_data)}\")\n",
    "      institution_offer_selected_data = get_institution_offer_selected_data(institution_offer)\n",
    "      \n",
    "      for institution_offer_selected in institution_offer_selected_data:\n",
    "        inst_df = pd.DataFrame([institution])\n",
    "        offer_df = pd.DataFrame([institution_offer])\n",
    "        selected_df = pd.DataFrame([institution_offer_selected])\n",
    "        \n",
    "        row_data = pd.concat([inst_df, offer_df, selected_df], axis=1)\n",
    "        data = pd.concat([data, row_data])\n",
    "  \n",
    "  path = \"out\";\n",
    "  if not os.path.exists(path):\n",
    "    os.makedirs(path)\n",
    "\n",
    "  data.to_csv(f\"out/SISUv{current_datetime.year}.csv\", index=False)"
   ]
  },
  {
   "cell_type": "code",
   "execution_count": null,
   "metadata": {},
   "outputs": [],
   "source": [
    "run()"
   ]
  }
 ],
 "metadata": {
  "kernelspec": {
   "display_name": "Python 3",
   "language": "python",
   "name": "python3"
  },
  "language_info": {
   "codemirror_mode": {
    "name": "ipython",
    "version": 3
   },
   "file_extension": ".py",
   "mimetype": "text/x-python",
   "name": "python",
   "nbconvert_exporter": "python",
   "pygments_lexer": "ipython3",
   "version": "3.10.12"
  }
 },
 "nbformat": 4,
 "nbformat_minor": 2
}
